{
 "cells": [
  {
   "cell_type": "code",
   "execution_count": 13,
   "id": "be21540f",
   "metadata": {},
   "outputs": [],
   "source": [
    "import pandas as pd\n",
    "import numpy as np\n",
    "import matplotlib.pyplot as plt\n",
    "import seaborn as sns\n",
    "import nltk\n",
    "import os\n",
    "\n",
    "from nltk.sentiment.vader import SentimentIntensityAnalyzer\n",
    "from typing import Tuple"
   ]
  },
  {
   "cell_type": "code",
   "execution_count": 10,
   "id": "851a4bf2",
   "metadata": {},
   "outputs": [
    {
     "name": "stderr",
     "output_type": "stream",
     "text": [
      "[nltk_data] Downloading package vader_lexicon to\n",
      "[nltk_data]     C:\\Users\\dagiM\\AppData\\Roaming\\nltk_data...\n",
      "[nltk_data]   Package vader_lexicon is already up-to-date!\n"
     ]
    },
    {
     "data": {
      "text/plain": [
       "True"
      ]
     },
     "execution_count": 10,
     "metadata": {},
     "output_type": "execute_result"
    }
   ],
   "source": [
    "nltk.download('vader_lexicon')"
   ]
  },
  {
   "cell_type": "code",
   "execution_count": 26,
   "id": "35d94634",
   "metadata": {},
   "outputs": [],
   "source": [
    "def load_news_dataset(path: str) -> pd.DataFrame:\n",
    "    return pd.read_csv(path, parse_dates=['date'])\n",
    "\n",
    "def load_stock_data(ticker: str, directory: str) -> pd.DataFrame:\n",
    "    file_path = os.path.join(directory, f\"{ticker}_historical_data.csv\")\n",
    "    df = pd.read_csv(file_path, parse_dates=['Date'])\n",
    "    df.rename(columns={'Date': 'date'}, inplace=True)\n",
    "    df['ticker'] = ticker\n",
    "    return df\n",
    "\n",
    "def compute_sentiment_scores(news_df: pd.DataFrame) -> pd.DataFrame:\n",
    "    sid = SentimentIntensityAnalyzer()\n",
    "    news_df['sentiment'] = news_df['headline'].apply(lambda x: sid.polarity_scores(str(x))['compound'])\n",
    "    return news_df\n",
    "\n",
    "def aggregate_daily_sentiment(news_df: pd.DataFrame) -> pd.DataFrame:\n",
    "    return news_df.groupby('date')['sentiment'].mean().reset_index()\n",
    "\n",
    "def calculate_daily_returns(df: pd.DataFrame) -> pd.DataFrame:\n",
    "    df = df.sort_values(['ticker', 'date'])\n",
    "    df['daily_return'] = df.groupby('ticker')['Close'].pct_change()\n",
    "    return df\n",
    "\n",
    "\n",
    "def merge_stock_sentiment(stock_df: pd.DataFrame, sentiment_df: pd.DataFrame) -> pd.DataFrame:\n",
    "    # Normalize stock dates\n",
    "    stock_df['date'] = pd.to_datetime(stock_df['date'], errors='coerce')\n",
    "    stock_df['date'] = stock_df['date'].dt.tz_localize(None).dt.normalize()\n",
    "\n",
    "    # Normalize sentiment/news dates\n",
    "    sentiment_df['date'] = pd.to_datetime(sentiment_df['date'], errors='coerce')\n",
    "    sentiment_df['date'] = sentiment_df['date'].dt.tz_localize(None).dt.normalize()\n",
    "\n",
    "    # Merge on date\n",
    "    return pd.merge(stock_df, sentiment_df, on='date', how='inner')\n",
    "\n",
    "\n",
    "\n",
    "def compute_correlation_per_ticker(merged_df: pd.DataFrame) -> pd.DataFrame:\n",
    "    results = (\n",
    "        merged_df.groupby('ticker')[['daily_return', 'sentiment']]\n",
    "        .corr()\n",
    "        .iloc[0::2, -1]  # Extract correlation between daily_return and sentiment\n",
    "        .reset_index()\n",
    "        .rename(columns={'sentiment': 'correlation'})[['ticker', 'correlation']]\n",
    "    )\n",
    "    return results\n",
    "\n",
    "def plot_correlations(corr_df: pd.DataFrame):\n",
    "    plt.figure(figsize=(10, 5))\n",
    "    sns.barplot(data=corr_df, x='ticker', y='correlation', palette='coolwarm')\n",
    "    plt.title(\"Pearson Correlation: Sentiment vs Daily Return\")\n",
    "    plt.ylabel(\"Correlation Coefficient\")\n",
    "    plt.xlabel(\"Ticker\")\n",
    "    plt.axhline(0, color='gray', linestyle='--')\n",
    "    plt.tight_layout()\n",
    "    plt.show()"
   ]
  },
  {
   "cell_type": "code",
   "execution_count": 17,
   "id": "90abd4e1",
   "metadata": {},
   "outputs": [],
   "source": [
    "TICKERS = ['AAPL', 'AMZN', 'GOOG', 'META', 'MSFT', 'NVDA', 'TSLA']\n",
    "STOCK_DATA_DIR = \"../Data/yfinance_data\"\n",
    "NEWS_DATA_PATH = \"../Data/raw_analyst_ratings/raw_analyst_ratings.csv\"\n",
    "\n",
    "\n",
    "news_df = load_news_dataset(NEWS_DATA_PATH)\n",
    "stock_dfs = [load_stock_data(ticker, STOCK_DATA_DIR) for ticker in TICKERS]\n",
    "combined_stock_df = pd.concat(stock_dfs, ignore_index=True)\n"
   ]
  },
  {
   "cell_type": "code",
   "execution_count": 18,
   "id": "b632ef50",
   "metadata": {},
   "outputs": [],
   "source": [
    "news_df = compute_sentiment_scores(news_df)\n",
    "daily_sentiment = aggregate_daily_sentiment(news_df)"
   ]
  },
  {
   "cell_type": "code",
   "execution_count": 19,
   "id": "ab8bcb5d",
   "metadata": {},
   "outputs": [],
   "source": [
    " # Stock return processing\n",
    "combined_stock_df = calculate_daily_returns(combined_stock_df)"
   ]
  },
  {
   "cell_type": "code",
   "execution_count": 27,
   "id": "d30d027f",
   "metadata": {},
   "outputs": [],
   "source": [
    "# Merge and correlate\n",
    "merged_df = merge_stock_sentiment(combined_stock_df, daily_sentiment)\n",
    "correlation_df = compute_correlation_per_ticker(merged_df)"
   ]
  },
  {
   "cell_type": "code",
   "execution_count": 28,
   "id": "b94813a0",
   "metadata": {},
   "outputs": [
    {
     "name": "stdout",
     "output_type": "stream",
     "text": [
      "  ticker  correlation\n",
      "0   AAPL     0.148743\n",
      "1   AMZN     0.084265\n",
      "2   GOOG     0.132860\n",
      "3   META     0.122209\n",
      "4   MSFT     0.129073\n",
      "5   NVDA     0.123376\n",
      "6   TSLA     0.118395\n"
     ]
    }
   ],
   "source": [
    "print(correlation_df)"
   ]
  },
  {
   "cell_type": "code",
   "execution_count": 29,
   "id": "a2b032f0",
   "metadata": {},
   "outputs": [
    {
     "name": "stderr",
     "output_type": "stream",
     "text": [
      "C:\\Users\\dagiM\\AppData\\Local\\Temp\\ipykernel_9824\\835600708.py:51: FutureWarning: \n",
      "\n",
      "Passing `palette` without assigning `hue` is deprecated and will be removed in v0.14.0. Assign the `x` variable to `hue` and set `legend=False` for the same effect.\n",
      "\n",
      "  sns.barplot(data=corr_df, x='ticker', y='correlation', palette='coolwarm')\n"
     ]
    },
    {
     "data": {
      "image/png": "[encoded data removed]",
      "text/plain": [
       "<Figure size 1000x500 with 1 Axes>"
      ]
     },
     "metadata": {},
     "output_type": "display_data"
    }
   ],
   "source": [
    "plot_correlations(correlation_df)"
   ]
  }
 ],
 "metadata": {
  "kernelspec": {
   "display_name": "venv",
   "language": "python",
   "name": "python3"
  },
  "language_info": {
   "codemirror_mode": {
    "name": "ipython",
    "version": 3
   },
   "file_extension": ".py",
   "mimetype": "text/x-python",
   "name": "python",
   "nbconvert_exporter": "python",
   "pygments_lexer": "ipython3",
   "version": "3.12.6"
  }
 },
 "nbformat": 4,
 "nbformat_minor": 5
}
